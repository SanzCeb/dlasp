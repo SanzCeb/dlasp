{
 "cells": [
  {
   "cell_type": "code",
   "execution_count": 31,
   "metadata": {},
   "outputs": [
    {
     "name": "stdout",
     "output_type": "stream",
     "text": [
      "Embedding size is 512, encoder SAP.\n",
      "Initialised AngleProto\n",
      "Initialised Adam optimizer\n",
      "Initialised step LR scheduler\n",
      "Model has 1437080 parameters\n",
      "Model pretrained_models/baseline_lite_ap.model loaded!\n",
      "Reading 4700 of 4715: 116.89 Hz, embedding size 512\n",
      "Computing 37700 of 37720: 4905.96 Hz\n",
      "\n",
      "EER 2.1792\n"
     ]
    }
   ],
   "source": [
    "!python ./trainSpeakerNet.py \\\n",
    "--eval \\\n",
    "--model ResNetSE34L \\\n",
    "--log_input True \\\n",
    "--trainfunc angleproto \\\n",
    "--save_path exps/test_lite \\\n",
    "--eval_frames 400 \\\n",
    "--test_list lists/veri_test.txt \\\n",
    "--initial_model pretrained_models/baseline_lite_ap.model"
   ]
  },
  {
   "cell_type": "code",
   "execution_count": 37,
   "metadata": {},
   "outputs": [
    {
     "name": "stdout",
     "output_type": "stream",
     "text": [
      "Embedding size is 512, encoder ASP.\n",
      "Initialised Softmax Loss\n",
      "Initialised AngleProto\n",
      "Initialised SoftmaxPrototypical Loss\n",
      "Initialised Adam optimizer\n",
      "Initialised step LR scheduler\n",
      "Model has 11103416 parameters\n",
      "Model pretrained_models/baseline_v2_ap.model loaded!\n",
      "Reading 4700 of 4715: 48.46 Hz, embedding size 512\n",
      "Computing 37700 of 37720: 5079.69 Hz\n",
      "\n",
      "EER 1.1771\n"
     ]
    }
   ],
   "source": [
    "!python ./trainSpeakerNet.py \\\n",
    "--eval \\\n",
    "--model ResNetSE34V2 \\\n",
    "--log_input True \\\n",
    "--encoder_type ASP \\\n",
    "--n_mels 64 \\\n",
    "--trainfunc softmaxproto \\\n",
    "--save_path exps/test_v2 \\\n",
    "--eval_frames 400 \\\n",
    "--test_list lists/veri_test.txt \\\n",
    "--initial_model pretrained_models/baseline_v2_ap.model"
   ]
  },
  {
   "cell_type": "code",
   "execution_count": 42,
   "metadata": {},
   "outputs": [
    {
     "name": "stdout",
     "output_type": "stream",
     "text": [
      "4953\n"
     ]
    }
   ],
   "source": [
    "!ls data/voxceleb2 | wc -l"
   ]
  },
  {
   "cell_type": "code",
   "execution_count": 90,
   "metadata": {},
   "outputs": [
    {
     "name": "stdout",
     "output_type": "stream",
     "text": [
      "Embedding size is 512, encoder SAP.\n",
      "Initialised AMSoftmax m=0.300 s=30.000\n",
      "Initialised Adam optimizer\n",
      "Initialised step LR scheduler\n",
      "Model has 3973014 parameters\n",
      "Model exps/scratch_given_model/model/model000000500.model loaded from previous state!\n",
      "/home/alumnos/e266041/.conda/envs/dlasp_lab1/lib/python3.6/site-packages/torch/optim/lr_scheduler.py:122: UserWarning: Detected call of `lr_scheduler.step()` before `optimizer.step()`. In PyTorch 1.1.0 and later, you should call them in the opposite order: `optimizer.step()` before `lr_scheduler.step()`.  Failure to do this will result in PyTorch skipping the first value of the learning rate schedule. See more details at https://pytorch.org/docs/stable/optim.html#how-to-adjust-learning-rate\n",
      "  \"https://pytorch.org/docs/stable/optim.html#how-to-adjust-learning-rate\", UserWarning)\n",
      "config None\n",
      "max_frames 200\n",
      "eval_frames 400\n",
      "batch_size 400\n",
      "max_seg_per_spk 100\n",
      "nDataLoaderThread 5\n",
      "augment False\n",
      "test_interval 10\n",
      "max_epoch 500\n",
      "trainfunc amsoftmax\n",
      "optimizer adam\n",
      "scheduler steplr\n",
      "lr 0.001\n",
      "lr_decay 0.95\n",
      "weight_decay 0\n",
      "hard_prob 0.5\n",
      "hard_rank 10\n",
      "margin 0.3\n",
      "scale 30.0\n",
      "nPerSpeaker 1\n",
      "nClasses 4953\n",
      "initial_model \n",
      "save_path exps/scratch_given_model\n",
      "train_list lists/train_list.txt\n",
      "test_list lists/veri_test.txt\n",
      "train_path data/voxceleb2\n",
      "test_path data/voxceleb1\n",
      "musan_path data/musan_split\n",
      "rir_path data/RIRS_NOISES/simulated_rirs\n",
      "n_mels 64\n",
      "log_input False\n",
      "model ResNetSE34L\n",
      "encoder_type SAP\n",
      "nOut 512\n",
      "eval False\n",
      "Model has 3973014 parameters\n",
      "2021-11-13 22:59:47 501 Training ResNetSE34L with LR 0.000077...\n",
      "Traceback (most recent call last):\n",
      "  File \"./trainSpeakerNet.py\", line 169, in <module>\n",
      "    loss, traineer = s.train_network(loader=trainLoader);\n",
      "  File \"/home/alumnos/e266041/MUDLAVSP/DL4ASP_PR1/SpeakerNet.py\", line 56, in train_network\n",
      "    outp      = self.__S__.forward(inp.cuda())\n",
      "  File \"/home/alumnos/e266041/MUDLAVSP/DL4ASP_PR1/models/ResNetSE34L.py\", line 89, in forward\n",
      "    x = self.layer3(x)\n",
      "  File \"/home/alumnos/e266041/.conda/envs/dlasp_lab1/lib/python3.6/site-packages/torch/nn/modules/module.py\", line 532, in __call__\n",
      "    result = self.forward(*input, **kwargs)\n",
      "  File \"/home/alumnos/e266041/.conda/envs/dlasp_lab1/lib/python3.6/site-packages/torch/nn/modules/container.py\", line 100, in forward\n",
      "    input = module(input)\n",
      "  File \"/home/alumnos/e266041/.conda/envs/dlasp_lab1/lib/python3.6/site-packages/torch/nn/modules/module.py\", line 532, in __call__\n",
      "    result = self.forward(*input, **kwargs)\n",
      "  File \"/home/alumnos/e266041/MUDLAVSP/DL4ASP_PR1/models/ResNetBlocks.py\", line 29, in forward\n",
      "    out = self.bn2(out)\n",
      "  File \"/home/alumnos/e266041/.conda/envs/dlasp_lab1/lib/python3.6/site-packages/torch/nn/modules/module.py\", line 532, in __call__\n",
      "    result = self.forward(*input, **kwargs)\n",
      "  File \"/home/alumnos/e266041/.conda/envs/dlasp_lab1/lib/python3.6/site-packages/torch/nn/modules/batchnorm.py\", line 107, in forward\n",
      "    exponential_average_factor, self.eps)\n",
      "  File \"/home/alumnos/e266041/.conda/envs/dlasp_lab1/lib/python3.6/site-packages/torch/nn/functional.py\", line 1670, in batch_norm\n",
      "    training, momentum, eps, torch.backends.cudnn.enabled\n",
      "RuntimeError: CUDA out of memory. Tried to allocate 40.00 MiB (GPU 0; 10.73 GiB total capacity; 5.46 GiB already allocated; 15.56 MiB free; 5.51 GiB reserved in total by PyTorch)\n"
     ]
    }
   ],
   "source": [
    "!python ./trainSpeakerNet.py \\\n",
    "--model ResNetSE34L \\\n",
    "--encoder_type SAP \\\n",
    "--n_mels 64 \\\n",
    "--batch_size 200 \\\n",
    "--scale 30 \\\n",
    "--margin 0.3 \\\n",
    "--nClasses 4953 \\\n",
    "--trainfunc amsoftmax \\\n",
    "--eval_frames 400 \\\n",
    "--save_path exps/scratch_given_model \\\n",
    "--train_list lists/train_list.txt \\\n",
    "--test_list lists/veri_test.txt\n"
   ]
  },
  {
   "cell_type": "code",
   "execution_count": null,
   "metadata": {},
   "outputs": [
    {
     "name": "stdout",
     "output_type": "stream",
     "text": [
      "Embedding size is 512, encoder SAP.\n",
      "Initialised AMSoftmax m=0.300 s=30.000\n",
      "Initialised Adam optimizer\n",
      "Initialised step LR scheduler\n",
      "Model has 3973014 parameters\n",
      "Model exps/scratch_given_model/model/model000000500.model loaded from previous state!\n",
      "/home/alumnos/e266041/.conda/envs/dlasp_lab1/lib/python3.6/site-packages/torch/optim/lr_scheduler.py:122: UserWarning: Detected call of `lr_scheduler.step()` before `optimizer.step()`. In PyTorch 1.1.0 and later, you should call them in the opposite order: `optimizer.step()` before `lr_scheduler.step()`.  Failure to do this will result in PyTorch skipping the first value of the learning rate schedule. See more details at https://pytorch.org/docs/stable/optim.html#how-to-adjust-learning-rate\n",
      "  \"https://pytorch.org/docs/stable/optim.html#how-to-adjust-learning-rate\", UserWarning)\n",
      "Reading 4700 of 4715: 111.21 Hz, embedding size 512\n",
      "Computing 37700 of 37720: 5186.56 Hz\n",
      "\n",
      "EER 16.8876\n",
      "Invalid file name exps/scratch_given_model/result/scores_test.txt. Try again.\n"
     ]
    }
   ],
   "source": [
    "!python ./trainSpeakerNet.py \\\n",
    "--eval \\\n",
    "--model ResNetSE34L \\\n",
    "--encoder_type SAP \\\n",
    "--batch_size 400 \\\n",
    "--n_mels 64 \\\n",
    "--scale 30 \\\n",
    "--margin 0.3 \\\n",
    "--nClasses 4953 \\\n",
    "--trainfunc amsoftmax \\\n",
    "--eval_frames 400 \\\n",
    "--save_path exps/scratch_given_model \\\n",
    "--train_list lists/train_list.txt \\\n",
    "--test_list lists/veri_test.txt \\\n",
    "--initial_model exps/scratch_given_model/model/model00000500.model"
   ]
  },
  {
   "cell_type": "code",
   "execution_count": 89,
   "metadata": {},
   "outputs": [
    {
     "data": {
      "image/png": "[encoded data removed]",
      "text/plain": [
       "<Figure size 432x288 with 1 Axes>"
      ]
     },
     "metadata": {
      "needs_background": "light"
     },
     "output_type": "display_data"
    }
   ],
   "source": [
    "%run plot_score_histograms.py"
   ]
  }
 ],
 "metadata": {
  "kernelspec": {
   "display_name": "dlasp_lab1",
   "language": "python",
   "name": "dlasp_lab1"
  },
  "language_info": {
   "codemirror_mode": {
    "name": "ipython",
    "version": 3
   },
   "file_extension": ".py",
   "mimetype": "text/x-python",
   "name": "python",
   "nbconvert_exporter": "python",
   "pygments_lexer": "ipython3",
   "version": "3.6.13"
  }
 },
 "nbformat": 4,
 "nbformat_minor": 4
}
